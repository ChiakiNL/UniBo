{
 "cells": [
  {
   "cell_type": "markdown",
   "id": "31be26e2",
   "metadata": {},
   "source": [
    "# Lecture 06 — Market Research and Analysis\n",
    "\n",
    "**テーマ:** Ward 法でクラスタリングを行い、dendrogram を見て、cut して cluster を作る。  \n",
    "**目的:** cluster を元データに merge し、頻度分布と基礎記述を確認する。\n"
   ]
  },
  {
   "cell_type": "markdown",
   "id": "afa4cf97",
   "metadata": {},
   "source": [
    "## 0) データと準備\n",
    "\n",
    "- `c.unico_1` は 8 つの opinion 変数 `d10_1`〜`d10_8` を持つ。  \n",
    "- `id` は個体の ID。  \n",
    "- `c.unico_2` は `unico_1` に `cluster` を merge した完成版。\n"
   ]
  },
  {
   "cell_type": "code",
   "execution_count": null,
   "id": "fc0e0b24",
   "metadata": {
    "language": "sas"
   },
   "outputs": [],
   "source": [
    "* path for students;\n",
    "libname c 'C:\\Camillo_clabe';\n",
    "* path for teacher (Furio);\n",
    "libname c '\\\\MaterialeDocente\\Camillo_clabe';\n"
   ]
  },
  {
   "cell_type": "markdown",
   "id": "0c1dcf97",
   "metadata": {},
   "source": [
    "## 1) Ward 法の考え方（要点）\n",
    "\n",
    "- Within variability を最小化、Between variability を最大化する。  \n",
    "- 新しい点をどの group に入れるかは、内部分散の増分が最も小さい方を選ぶ。  \n",
    "- これにより、各 cluster は中で似ていて、外とは離れる。\n"
   ]
  },
  {
   "cell_type": "markdown",
   "id": "f2f9327e",
   "metadata": {},
   "source": [
    "## 2) Dendrogram の作成\n",
    "\n",
    "- まず参考に method=single を動かし、次に本命の method=ward を行う。  \n",
    "- `var d10_:;` は `d10_` で始まる全ての列をまとめて指定する SAS shorthand。\n"
   ]
  },
  {
   "cell_type": "code",
   "execution_count": null,
   "id": "e7e04b41",
   "metadata": {
    "language": "sas"
   },
   "outputs": [],
   "source": [
    "/* 参考: Single linkage での tree（比較用） */\n",
    "proc cluster data=c.unico_1 method=single outtree=c.tree;\n",
    "  var d10_:;\n",
    "  id id;\n",
    "run;\n",
    "\n",
    "proc tree data=c.tree;\n",
    "  id id;\n",
    "run;\n",
    "\n",
    "/* 本命: Ward 法の tree を作る */\n",
    "proc cluster data=c.unico_1 method=ward outtree=c.tree_1;\n",
    "  var d10_:;\n",
    "  id id;\n",
    "run;\n",
    "\n",
    "/* Dendrogram を表示 */\n",
    "proc tree data=c.tree_1;\n",
    "  id id;\n",
    "run;"
   ]
  },
  {
   "cell_type": "markdown",
   "id": "43fb02e3",
   "metadata": {},
   "source": [
    "## 3) クラスタ数の決定と cut\n",
    "\n",
    "- dendrogram の fusion distance の大きなジャンプで切る。  \n",
    "- 授業では 3 clusters を採用。`PROC TREE` で `out=` と `nclusters=` を使う。\n"
   ]
  },
  {
   "cell_type": "code",
   "execution_count": null,
   "id": "239f4430",
   "metadata": {
    "language": "sas"
   },
   "outputs": [],
   "source": [
    "/* cut して cluster 割当てを作る */\n",
    "proc tree data=c.tree_1 noprint out=c.cluster nclusters=3;\n",
    "  id id;\n",
    "run;"
   ]
  },
  {
   "cell_type": "markdown",
   "id": "4796b718",
   "metadata": {},
   "source": [
    "## 4) cluster を元データへ merge\n",
    "\n",
    "- merge にはキーが必要。ここでは id。  \n",
    "- PROC SORT で事前に by id の sort を行うこと。  \n",
    "- ファイルを開いたままにすると sort が失敗するので注意。\n"
   ]
  },
  {
   "cell_type": "code",
   "execution_count": null,
   "id": "30c94609",
   "metadata": {
    "language": "sas"
   },
   "outputs": [],
   "source": [
    "/* 両データを id で sort */\n",
    "proc sort data=c.cluster;  by id; run;\n",
    "proc sort data=c.unico_1;  by id; run;\n",
    "\n",
    "/* merge して完成版 c.unico_2 を作る */\n",
    "data c.unico_2;\n",
    "  merge c.unico_1 c.cluster;\n",
    "  by id;\n",
    "run;"
   ]
  },
  {
   "cell_type": "markdown",
   "id": "b347e2fe",
   "metadata": {},
   "source": [
    "## 5) cluster のサイズと構成比を確認\n",
    "\n",
    "- PROC FREQ の `tables cluster;` で件数と比率を見る。  \n",
    "- 欠損がある行は自動で除外されることがある。\n"
   ]
  },
  {
   "cell_type": "code",
   "execution_count": null,
   "id": "eb815667",
   "metadata": {
    "language": "sas"
   },
   "outputs": [],
   "source": [
    "/* cluster の分布（件数と%） */\n",
    "proc freq data=c.unico_2;\n",
    "  tables cluster;\n",
    "run;"
   ]
  },
  {
   "cell_type": "markdown",
   "id": "4d41eae1",
   "metadata": {},
   "source": [
    "## 6) 欠損値の注意\n",
    "\n",
    "- opinion の一部が欠損だと、クラスタリングから外れることがある。  \n",
    "- 授業では 784 から 782 に減る例があった。  \n",
    "- 後で missing value treatment を検討する。\n"
   ]
  },
  {
   "cell_type": "markdown",
   "id": "1c8ef1f0",
   "metadata": {},
   "source": [
    "## 7) 外部カテゴリとの関係を見る準備（導入）\n",
    "\n",
    "- cluster は categorical、sex も categorical。  \n",
    "- 両者の関係は two-way table で確認する。  \n",
    "- independence の仮説の下、expected は `E_ij = (row total_i × column total_j) / N`。\n"
   ]
  },
  {
   "cell_type": "code",
   "execution_count": null,
   "id": "3db4dee2",
   "metadata": {
    "language": "sas"
   },
   "outputs": [],
   "source": [
    "/* two-way table（導入、期待度数と Chi-square を出す） */\n",
    "proc freq data=c.unico_2;\n",
    "  tables cluster*sex / expected chisq;\n",
    "run;"
   ]
  },
  {
   "cell_type": "markdown",
   "id": "65064dc6",
   "metadata": {},
   "source": [
    "## 8) opinion 変数の基礎記述\n",
    "\n",
    "- d10_1〜d10_8 の全体平均を見て基準を持つ。  \n",
    "- 次に cluster 別平均を見て、over-characterized か under-characterized かを掴む。\n"
   ]
  },
  {
   "cell_type": "code",
   "execution_count": null,
   "id": "0bd33782",
   "metadata": {
    "language": "sas"
   },
   "outputs": [],
   "source": [
    "/* 全体の基礎記述 */\n",
    "proc means data=c.unico_2 mean stddev min max;\n",
    "  var d10_1-d10_8;\n",
    "  title \"Overall means for opinion variables\";\n",
    "run;\n",
    "\n",
    "/* cluster 別の基礎記述 */\n",
    "proc means data=c.unico_2 mean stddev min max;\n",
    "  class cluster;\n",
    "  var d10_1-d10_8;\n",
    "  title \"Cluster means for opinion variables\";\n",
    "run;"
   ]
  },
  {
   "cell_type": "markdown",
   "id": "74a791ca",
   "metadata": {},
   "source": [
    "## まとめ\n",
    "\n",
    "- Ward 法は within variability を抑え、between variability を広げる。  \n",
    "- Dendrogram を見て、適切な cut を選ぶ。授業では 3 clusters。  \n",
    "- PROC TREE で割当てを作り、id で merge。  \n",
    "- PROC FREQ でサイズを確認、PROC MEANS で基礎記述。  \n",
    "- two-way table と expected は Lecture 07 に続く分析の土台になる。\n"
   ]
  }
 ],
 "metadata": {
  "kernelspec": {
   "display_name": "SAS",
   "language": "sas",
   "name": "sas"
  },
  "language_info": {
   "name": "sas"
  }
 },
 "nbformat": 4,
 "nbformat_minor": 5
}
