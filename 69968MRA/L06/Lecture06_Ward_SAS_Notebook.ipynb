{
  "cells": [
    {
      "cell_type": "markdown",
      "metadata": {},
      "source": [
        "# Lecture 06, Hierarchical Clustering with Ward, SAS workflow, interpretation\n",
        "\n",
        "This notebook is a teaching handout. It follows Gunning Fog level about 8 by using short sentences and clear words. It mirrors the lecture transcript and **Lecture06** slides. It shows the workflow in SAS, then how to profile clusters. It adds small Python demos for intuition."
      ]
    },
    {
      "cell_type": "markdown",
      "metadata": {},
      "source": [
        "## 1) Big picture, why clustering\n",
        "\n",
        "Clustering groups similar cases. We use it to segment customers. Each group can get a different offer, message, or layout. Hierarchical clustering builds a tree, called a dendrogram. We then cut the tree to get **K** clusters.\n",
        "\n",
        "**Ward’s method** works well for survey and opinion data. It keeps groups tight inside, and far apart between groups. In plain words, it **minimizes the within group variance** at each merge. That also **maximizes separation** across groups."
      ]
    },
    {
      "cell_type": "markdown",
      "metadata": {},
      "source": [
        "## 2) Ward’s method in one line\n",
        "\n",
        "At every merge, join the two clusters that cause the **smallest increase** in total within cluster variance, also called error sum of squares. This favors round and compact clusters which are easy to explain."
      ]
    },
    {
      "cell_type": "markdown",
      "metadata": {},
      "source": [
        "## 3) SAS workflow, from data to clusters\n",
        "\n",
        "Below is the same code used in class. It reads table `c.unico_1`, runs hierarchical clustering, saves the tree, cuts it at **K = 3**, and merges the cluster labels back to the base table.\n"
      ]
    },
    {
      "cell_type": "code",
      "execution_count": null,
      "id": "7b3c9737",
      "metadata": {},
      "outputs": [],
      "source": [
        "```sas\n",
        "/* Libraries */\n",
        "libname c 'C:\\Camillo_clabe';\n",
        "\n",
        "/* 1) Try a different linkage to see behavior */\n",
        "proc cluster data=c.unico_1 method=single outtree=c.tree;\n",
        "  var d10_:;\n",
        "  id id;\n",
        "run;\n",
        "proc tree data=c.tree;\n",
        "  id id;\n",
        "run;\n",
        "\n",
        "/* 2) Ward, our main choice */\n",
        "proc cluster data=c.unico_1 method=ward outtree=c.tree_1;\n",
        "  var d10_:;   /* all variables whose names start with d10_ */\n",
        "  id id;       /* record id follows the unit through the tree */\n",
        "run;\n",
        "proc tree data=c.tree_1;\n",
        "  id id;\n",
        "run;\n",
        "\n",
        "/* 3) Cut the tree to get K = 3 clusters */\n",
        "proc tree data=c.tree_1 noprint out=c.cluster nclusters=3;\n",
        "  id id;\n",
        "run;\n",
        "\n",
        "/* 4) Sort by the join key before a merge */\n",
        "proc sort data=c.cluster; by id; run;\n",
        "\n",
        "/* 5) Merge cluster labels back into the original data */\n",
        "data c.unico_2;\n",
        "  merge c.unico_1 c.cluster;  /* creates a new column named CLUSTER */\n",
        "  by id;                      /* key must be sorted in both inputs */\n",
        "run;\n",
        "\n",
        "/* 6) Size of each cluster */\n",
        "proc freq data=c.unico_2;\n",
        "  table cluster;\n",
        "run;\n",
        "\n",
        "/* 7) Cross tab with a descriptor, example sex, with expected counts */\n",
        "proc freq data=c.unico_2;\n",
        "  table cluster*sex / expected;\n",
        "run;\n",
        "```"
      ]
    },
    {
      "cell_type": "markdown",
      "metadata": {},
      "source": [
        "### Common pitfalls\n",
        "- **Sort before merge**. Use `proc sort by id`.\n",
        "- **Close tables before reuse**. You cannot sort a dataset that is still open in a viewer.\n",
        "- **Do not overwrite**. Save new outputs with new names, for example `unico_2`.\n",
        "- **Library path must exist**. If `libname` points to a non existing path, SAS will not assign it.\n",
        "- **Missing values**. Procedures ignore rows with missing values in required fields. Your cluster counts may drop."
      ]
    },
    {
      "cell_type": "markdown",
      "metadata": {},
      "source": [
        "## 4) Reading the dendrogram and picking K\n",
        "\n",
        "- The vertical axis is **fusion distance**. Under Ward, it is the increase in within variance at a merge.\n",
        "- A **long jump** signals two different branches got fused. Cut **right before** such jumps.\n",
        "- Use two levels of detail: a **main segmentation** for strategy, and **subsegments** inside each branch for tactics."
      ]
    },
    {
      "cell_type": "markdown",
      "metadata": {},
      "source": [
        "## 5) What the new variable `cluster` means\n",
        "\n",
        "`cluster` is a categorical field derived from many inputs, here `d10_1` to `d10_8`. It is an **enrichment** of the customer master. With this one field, teams can filter, run A/B tests per segment, and tailor offers. Keep the join key `id` with it."
      ]
    },
    {
      "cell_type": "markdown",
      "metadata": {},
      "source": [
        "## 6) Cluster sizing, small Python demo\n",
        "\n",
        "We will make a toy table of sizes, then plot it. In class, your `PROC FREQ` output gave similar numbers. The code below only builds intuition."
      ]
    },
    {
      "cell_type": "code",
      "execution_count": 3,
      "metadata": {},
      "outputs": [
        {
          "data": {
            "text/html": [
              "<div>\n",
              "<style scoped>\n",
              "    .dataframe tbody tr th:only-of-type {\n",
              "        vertical-align: middle;\n",
              "    }\n",
              "\n",
              "    .dataframe tbody tr th {\n",
              "        vertical-align: top;\n",
              "    }\n",
              "\n",
              "    .dataframe thead th {\n",
              "        text-align: right;\n",
              "    }\n",
              "</style>\n",
              "<table border=\"1\" class=\"dataframe\">\n",
              "  <thead>\n",
              "    <tr style=\"text-align: right;\">\n",
              "      <th></th>\n",
              "      <th>Frequency</th>\n",
              "      <th>Percent</th>\n",
              "    </tr>\n",
              "  </thead>\n",
              "  <tbody>\n",
              "    <tr>\n",
              "      <th>1</th>\n",
              "      <td>306</td>\n",
              "      <td>39.0</td>\n",
              "    </tr>\n",
              "    <tr>\n",
              "      <th>2</th>\n",
              "      <td>318</td>\n",
              "      <td>40.6</td>\n",
              "    </tr>\n",
              "    <tr>\n",
              "      <th>3</th>\n",
              "      <td>160</td>\n",
              "      <td>20.4</td>\n",
              "    </tr>\n",
              "  </tbody>\n",
              "</table>\n",
              "</div>"
            ],
            "text/plain": [
              "   Frequency  Percent\n",
              "1        306     39.0\n",
              "2        318     40.6\n",
              "3        160     20.4"
            ]
          },
          "execution_count": 3,
          "metadata": {},
          "output_type": "execute_result"
        }
      ],
      "source": [
        "import pandas as pd\n",
        "\n",
        "sizes = pd.Series({1: 306, 2: 318, 3: 160}, name='Frequency')\n",
        "perc = sizes / sizes.sum() * 100\n",
        "df_sizes = pd.DataFrame({'Frequency': sizes, 'Percent': perc.round(1)})\n",
        "\n",
        "# Just display the dataframe directly (no need for caas_jupyter_tools)\n",
        "df_sizes"
      ]
    },
    {
      "cell_type": "markdown",
      "metadata": {},
      "source": [
        "### Bar chart of toy cluster sizes\n",
        "One chart per figure, default matplotlib style, no custom colors."
      ]
    },
    {
      "cell_type": "code",
      "execution_count": 4,
      "metadata": {},
      "outputs": [
        {
          "data": {
            "image/png": "[encoded data removed]",
            "text/plain": [
              "<Figure size 640x480 with 1 Axes>"
            ]
          },
          "metadata": {},
          "output_type": "display_data"
        }
      ],
      "source": [
        "import matplotlib.pyplot as plt\n",
        "plt.figure()\n",
        "plt.bar(df_sizes.index.astype(str), df_sizes['Frequency'])\n",
        "plt.title('Cluster sizes, toy example')\n",
        "plt.xlabel('Cluster')\n",
        "plt.ylabel('Frequency')\n",
        "plt.show()"
      ]
    },
    {
      "cell_type": "markdown",
      "metadata": {},
      "source": [
        "## 7) Cross tabs and expected counts, logic of independence\n",
        "\n",
        "We compare within cluster percents to overall percents. If they match, the variables are independent. If not, there is a relation. The expected count under independence for cell `(i, j)` is\n",
        "\n",
        "$$E_{ij} = \\frac{(\\text{row total}_i) (\\text{column total}_j)}{\\text{grand total}}.$$\n",
        "\n",
        "The code below shows the computation for a toy 2 by 3 table. In SAS, `PROC FREQ ... / expected` prints the same expected counts."
      ]
    },
    {
      "cell_type": "code",
      "execution_count": 5,
      "metadata": {},
      "outputs": [
        {
          "name": "stdout",
          "output_type": "stream",
          "text": [
            "Observed counts:\n",
            "      F    M\n",
            "1  140  166\n",
            "2  150  168\n",
            "3   86   74\n",
            "\n",
            "Expected counts (independence):\n",
            "         F       M\n",
            "1  146.76  159.24\n",
            "2  152.51  165.49\n",
            "3   76.73   83.27\n",
            "\n",
            "Chi-square statistic (no p-value computed): 2.827, df=2\n"
          ]
        }
      ],
      "source": [
        "import numpy as np\n",
        "import pandas as pd\n",
        "\n",
        "# toy cross tab: rows are clusters 1..3, columns are sex: F, M\n",
        "obs = pd.DataFrame({\n",
        "    'F':[140, 150, 86],   # sample numbers, adjust in class\n",
        "    'M':[166, 168, 74]\n",
        "}, index=[1,2,3])\n",
        "obs['RowTotal'] = obs.sum(axis=1)\n",
        "col_totals = obs[['F','M']].sum(axis=0)\n",
        "grand = col_totals.sum()\n",
        "\n",
        "# expected under independence\n",
        "expected = pd.DataFrame(index=obs.index, columns=['F','M'], dtype=float)\n",
        "for r in obs.index:\n",
        "    for c in ['F','M']:\n",
        "        expected.loc[r, c] = obs.loc[r, 'RowTotal'] * col_totals[c] / grand\n",
        "\n",
        "chi2 = (((obs[['F','M']] - expected)**2) / expected).to_numpy().sum()\n",
        "df = (len(obs.index)-1) * (len(['F','M'])-1)\n",
        "\n",
        "print('Observed counts:\\n', obs[['F','M']])\n",
        "print('\\nExpected counts (independence):\\n', expected.round(2))\n",
        "print(f\"\\nChi-square statistic (no p-value computed): {chi2:.3f}, df={df}\")"
      ]
    },
    {
      "cell_type": "markdown",
      "metadata": {},
      "source": [
        "## 8) Analyst checklist\n",
        "\n",
        "- Variables are ready, scaled if needed, and missing patterns are known.\n",
        "- `proc cluster method=ward` with `outtree=` saved.\n",
        "- Inspect dendrogram, mark jumps, pick **K**.\n",
        "- `proc tree ... nclusters=K out=cluster`.\n",
        "- `proc sort` by `id`, then `merge` back to base table.\n",
        "- `proc freq` on `cluster`, and `cluster * descriptors` with `/ expected`.\n",
        "- Write a one page segment profile with size, key traits, and quick actions."
      ]
    },
    {
      "cell_type": "markdown",
      "metadata": {},
      "source": [
        "## 9) Notes from the lab setup\n",
        "\n",
        "- Copy the course folder to your own virtual disk before class. You can read the teacher folder, but you cannot write there.\n",
        "- Launch **SAS 9.4 English** in the lab image.\n",
        "- Drag the `.sas` file into the editor to open it.\n",
        "- Use a readable font size, for example 16."
      ]
    },
    {
      "cell_type": "markdown",
      "metadata": {},
      "source": [
        "---\n",
        "### Appendix, talking points for stakeholders\n",
        "\n",
        "- **Cluster 1** is slightly more male than average, it may need different creative.\n",
        "- **Cluster 2** follows the base mix on sex, no special targeting by gender.\n",
        "- **Cluster 3** is smaller and stands apart in the tree, it may need a custom plan."
      ]
    }
  ],
  "metadata": {
    "kernelspec": {
      "display_name": "Python 3",
      "language": "python",
      "name": "python3"
    },
    "language_info": {
      "codemirror_mode": {
        "name": "ipython",
        "version": 3
      },
      "file_extension": ".py",
      "mimetype": "text/x-python",
      "name": "python",
      "nbconvert_exporter": "python",
      "pygments_lexer": "ipython3",
      "version": "3.13.8"
    },
    "title": "Lecture06_Hierarchical_Clustering_Ward_SAS"
  },
  "nbformat": 4,
  "nbformat_minor": 5
}
