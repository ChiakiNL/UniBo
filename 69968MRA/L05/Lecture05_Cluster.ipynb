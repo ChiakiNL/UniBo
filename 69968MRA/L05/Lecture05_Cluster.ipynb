{
  "cells": [
    {
      "cell_type": "markdown",
      "metadata": {},
      "source": [
        "# Lecture 05: Hierarchical Clustering in SAS\n",
        "\n",
        "In this notebook we will:\n",
        "1. Define the SAS library\n",
        "2. Run hierarchical clustering with **Single Linkage**\n",
        "3. Draw the dendrogram\n",
        "4. Run hierarchical clustering with **Ward’s Method**\n",
        "5. Cut the dendrogram into clusters\n",
        "6. Check cluster sizes and profiles"
      ]
    },
    {
      "cell_type": "markdown",
      "metadata": {},
      "source": [
        "## 0. Define the library\n",
        "\n",
        "We tell SAS where the datasets are stored.  \n",
        "- Students: use the local path (writable).  \n",
        "- Teacher: has a read-only shared path (commented out).\n",
        "\n",
        "c：このライブラリの名前（libref）。プログラム内でデータセットを呼ぶときに使う「ニックネーム」。"
      ]
    },
    {
      "cell_type": "code",
      "execution_count": null,
      "metadata": {
        "language": "sas"
      },
      "outputs": [],
      "source": [
        "/* Path for students */\n",
        "libname c \"C:\\Camillo_clabe\";\n",
        "\n",
        "/* Path for teacher (read-only, commented out) */\n",
        "/* libname c \"---\\MaterialeDocente\\Camillo_clabe\"; */"
      ]
    },
    {
      "cell_type": "markdown",
      "metadata": {},
      "source": [
        "## 1. Single linkage clustering\n",
        "\n",
        "- Input dataset: `c.unico_1`  \n",
        "- Method: **Single linkage** (minimum distance between points)  \n",
        "- Output: `c.tree_single`  \n",
        "- `var d10_:` → selects all variables with prefix `d10_`  \n",
        "- `id id` → uses the variable `id` as identifier  “Which variable should I use as the label (identifier) for each observation in the dendrogram or cluster output?”"
      ]
    },
    {
      "cell_type": "code",
      "execution_count": null,
      "metadata": {
        "language": "sas"
      },
      "outputs": [],
      "source": [
        "proc cluster data=c.unico_1 method=single outtree=c.tree_single;\n",
        "    var d10_: ;\n",
        "    id id;\n",
        "run;"
      ]
    },
    {
      "cell_type": "markdown",
      "id": "86bca90f",
      "metadata": {},
      "source": [
        "- `proc cluster`：\n",
        "クラスター分析を行う手順（プロシジャ）を使う、という命令。\n",
        "→ 「データの似ているグループを自動で見つける分析」。\n",
        "\n",
        "- `data=c.unico_1`：\n",
        "使うデータセットの指定。\n",
        "\n",
        "- `c` はさっきのライブラリ参照（libname c \"C:\\Camillo_clabe\"）で設定したもの。\n",
        "\n",
        "- `unico_1` は、そのフォルダ内にあるデータセットの名前。\n",
        "→ つまり、C:\\Camillo_clabe\\unico_1.sas7bdat というファイルを使っています。\n",
        "\n",
        "- `method=single`：\n",
        "クラスタリングの方法を指定しています。\n",
        "single は「最短距離法（single linkage method）」という方法。\n",
        "2つのグループの中で「最も近い2点の距離」を基準にしてグループをまとめます。\n",
        "\n",
        "- `outtree=c.tree_single`：\n",
        "分析の結果を「ツリー形式」で保存。\n",
        "`tree_single` という名前のデータセットが、ライブラリ c に作られます。\n",
        "この結果は後で「デンドログラム（木のような図）」を描くときに使います。"
      ]
    },
    {
      "cell_type": "markdown",
      "metadata": {},
      "source": [
        "## 2. Draw dendrogram for Single linkage\n",
        "\n",
        "We use `PROC TREE` to visualize the hierarchical structure.  \n",
        "Later we can also cut the tree into groups."
      ]
    },
    {
      "cell_type": "code",
      "execution_count": null,
      "metadata": {
        "language": "sas"
      },
      "outputs": [],
      "source": [
        "proc tree data=c.tree_single;\n",
        "    id id;\n",
        "run;"
      ]
    },
    {
      "cell_type": "markdown",
      "metadata": {},
      "source": [
        "## 3. Ward’s method clustering\n",
        "\n",
        "- Method: **Ward** (minimizes within-cluster variance)  \n",
        "- Output: `c.tree_ward`  \n",
        "- This usually produces more compact, homogeneous clusters."
      ]
    },
    {
      "cell_type": "code",
      "execution_count": null,
      "metadata": {
        "language": "sas"
      },
      "outputs": [],
      "source": [
        "proc cluster data=c.unico_1 method=ward outtree=c.tree_ward;\n",
        "    var d10_: ;\n",
        "    id id;\n",
        "run;"
      ]
    },
    {
      "cell_type": "markdown",
      "metadata": {},
      "source": [
        "## 4. Draw dendrogram for Ward’s method\n",
        "\n",
        "Now we display the Ward dendrogram."
      ]
    },
    {
      "cell_type": "code",
      "execution_count": null,
      "metadata": {
        "language": "sas"
      },
      "outputs": [],
      "source": [
        "proc tree data=c.tree_ward;\n",
        "    id id;\n",
        "run;"
      ]
    },
    {
      "cell_type": "markdown",
      "metadata": {},
      "source": [
        "## 5. Cutting the dendrogram\n",
        "\n",
        "Two options:\n",
        "1. Fix the **number of clusters** (e.g. 3)  \n",
        "2. Cut at a specific **height** (fusion distance = 7)"
      ]
    },
    {
      "cell_type": "code",
      "execution_count": null,
      "metadata": {
        "language": "sas"
      },
      "outputs": [],
      "source": [
        "/* Cut into 3 clusters */\n",
        "proc tree data=c.tree_ward nclusters=3 out=c.clus3;\n",
        "    id id;\n",
        "run;\n",
        "\n",
        "/* Cut at height=7 */\n",
        "proc tree data=c.tree_ward height=7 out=c.clus_h7;\n",
        "    id id;\n",
        "run;"
      ]
    },
    {
      "cell_type": "markdown",
      "metadata": {},
      "source": [
        "## 6. Quick checks\n",
        "\n",
        "- `PROC FREQ` → cluster sizes  \n",
        "- `PROC MEANS` → cluster profiles (means, standard deviations per cluster)"
      ]
    },
    {
      "cell_type": "code",
      "execution_count": null,
      "metadata": {
        "language": "sas"
      },
      "outputs": [],
      "source": [
        "/* Cluster sizes */\n",
        "proc freq data=c.clus3;\n",
        "    tables cluster / nocum;\n",
        "run;\n",
        "\n",
        "/* Cluster profiles */\n",
        "proc means data=c.clus3 mean std maxdec=2;\n",
        "    class cluster;\n",
        "    var d10_: ;\n",
        "run;"
      ]
    }
  ],
  "metadata": {
    "kernelspec": {
      "display_name": "SAS",
      "language": "sas",
      "name": "sas"
    },
    "language_info": {
      "name": "sas"
    }
  },
  "nbformat": 4,
  "nbformat_minor": 5
}
