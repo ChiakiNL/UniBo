{
 "cells": [
  {
   "cell_type": "markdown",
   "id": "7ff754c6",
   "metadata": {},
   "source": [
    "# Lecture 07 — Market Research and Analysis\n",
    "\n",
    "**テーマ:** クラスターを説明するための外部変数（genderなど）の扱いと、定量変数による記述。\n",
    "\n",
    "**学習目標**\n",
    "1. 2つのカテゴリー変数間の独立性 (Chi-square test)\n",
    "2. Goodman–Kruskal’s Lambda（予測力の向上度）\n",
    "3. Quantitative variables によるクラスターの特徴づけ（平均値比較）\n"
   ]
  },
  {
   "cell_type": "markdown",
   "id": "e6faab7f",
   "metadata": {},
   "source": [
    "## 0) データ準備\n",
    "\n",
    "使用データ: `c.unico_2`  \n",
    "変数: `id`, `cluster`, `sex`, `d10_1`〜`d10_8`\n"
   ]
  },
  {
   "cell_type": "code",
   "execution_count": null,
   "id": "298fea4c",
   "metadata": {
    "language": "sas"
   },
   "outputs": [],
   "source": [
    "* path for students;\n",
    "libname c 'C:\\Camillo_clabe';\n",
    "* path for Furio;\n",
    "libname c '\\\\MaterialeDocente\\Camillo_clabe';\n",
    "\n",
    "/* 使用データ: c.unico_2\n",
    "   変数: id, cluster, sex, d10_1–d10_8 */\n"
   ]
  },
  {
   "cell_type": "markdown",
   "id": "248bceb9",
   "metadata": {},
   "source": [
    "## 1) Categorical variables の関係 — Chi-square test\n",
    "\n",
    "目的: **cluster** と **sex** の間に統計的な関係（独立性）があるかを確認する。\n"
   ]
  },
  {
   "cell_type": "code",
   "execution_count": null,
   "id": "55d687d7",
   "metadata": {
    "language": "sas"
   },
   "outputs": [],
   "source": [
    "proc freq data=c.unico_2;\n",
    "  tables cluster*sex / expected chisq all;\n",
    "run;"
   ]
  },
  {
   "cell_type": "markdown",
   "id": "1a43a1d2",
   "metadata": {},
   "source": [
    "### 読み方\n",
    "- `expected` は独立である場合の期待度数\n",
    "- `chisq` は Chi-square 統計量と p-value\n",
    "- 授業の実行では p-value ≈ 0.47 で独立とみなされた\n"
   ]
  },
  {
   "cell_type": "markdown",
   "id": "de7629f3",
   "metadata": {},
   "source": [
    "### クラスター3を除いた 2×2 テーブルの確認"
   ]
  },
  {
   "cell_type": "code",
   "execution_count": null,
   "id": "d46c69c5",
   "metadata": {
    "language": "sas"
   },
   "outputs": [],
   "source": [
    "proc freq data=c.unico_2;\n",
    "  where cluster ne 3;\n",
    "  tables cluster*sex / expected chisq;\n",
    "run;"
   ]
  },
  {
   "cell_type": "markdown",
   "id": "1a170659",
   "metadata": {},
   "source": [
    "## 2) Goodman–Kruskal’s Lambda\n",
    "\n",
    "目的: 性別 (sex) を知ることで **cluster** の予測精度がどのくらい向上するかを測る。\n"
   ]
  },
  {
   "cell_type": "code",
   "execution_count": null,
   "id": "3474de8b",
   "metadata": {
    "language": "sas"
   },
   "outputs": [],
   "source": [
    "proc freq data=c.unico_2;\n",
    "  tables cluster*sex / measures;   /* Lambda を含む関連指標を出力 */\n",
    "run;"
   ]
  },
  {
   "cell_type": "markdown",
   "id": "3fda6ea2",
   "metadata": {},
   "source": [
    "### 読み方\n",
    "- 出力の「Asymmetric Measures」に **Lambda (Rows Dependent on Columns)** がある\n",
    "- 授業では Lambda ≈ 0.02（約2%の予測力向上）で、性別は弱い予測因子\n",
    "- 結論: 設計において gender を考慮しなくてよい\n"
   ]
  },
  {
   "cell_type": "markdown",
   "id": "697a3620",
   "metadata": {},
   "source": [
    "## 3) Quantitative variables によるクラスター記述\n",
    "\n",
    "目的: 意見項目 `d10_1`〜`d10_8` について、クラスターごとの平均を比較して特徴を把握する。\n"
   ]
  },
  {
   "cell_type": "markdown",
   "id": "cf97d132",
   "metadata": {},
   "source": [
    "### 3a) 全体平均の算出"
   ]
  },
  {
   "cell_type": "code",
   "execution_count": null,
   "id": "0e6f6228",
   "metadata": {
    "language": "sas"
   },
   "outputs": [],
   "source": [
    "proc means data=c.unico_2 mean stddev min max;\n",
    "  var d10_1-d10_8;\n",
    "  title \"Overall means for opinion variables\";\n",
    "run;"
   ]
  },
  {
   "cell_type": "markdown",
   "id": "f17f8a07",
   "metadata": {},
   "source": [
    "### 3b) クラスター別の平均値"
   ]
  },
  {
   "cell_type": "code",
   "execution_count": null,
   "id": "0042736a",
   "metadata": {
    "language": "sas"
   },
   "outputs": [],
   "source": [
    "proc means data=c.unico_2 mean stddev min max;\n",
    "  class cluster;\n",
    "  var d10_1-d10_8;\n",
    "  title \"Cluster means for opinion variables\";\n",
    "run;"
   ]
  },
  {
   "cell_type": "markdown",
   "id": "109050e1",
   "metadata": {},
   "source": [
    "### 読み方\n",
    "- クラスター平均が全体平均より大きいと over-characterized\n",
    "- クラスター平均が全体平均より小さいと under-characterized\n"
   ]
  },
  {
   "cell_type": "markdown",
   "id": "44f8f07f",
   "metadata": {},
   "source": [
    "### 3c) 平均差 (cluster mean − overall mean) の簡易表"
   ]
  },
  {
   "cell_type": "code",
   "execution_count": null,
   "id": "b7789050",
   "metadata": {
    "language": "sas"
   },
   "outputs": [],
   "source": [
    "/* Overall means を一時データに保存 */\n",
    "proc means data=c.unico_2 noprint;\n",
    "  var d10_1-d10_8;\n",
    "  output out=overall mean=om1-om8;\n",
    "run;\n",
    "\n",
    "/* macro 変数として保存 */\n",
    "data _null_;\n",
    "  set overall;\n",
    "  call symputx('om1', om1);\n",
    "  call symputx('om2', om2);\n",
    "  call symputx('om3', om3);\n",
    "  call symputx('om4', om4);\n",
    "  call symputx('om5', om5);\n",
    "  call symputx('om6', om6);\n",
    "  call symputx('om7', om7);\n",
    "  call symputx('om8', om8);\n",
    "run;\n",
    "\n",
    "/* cluster 別平均と全体との差を計算 */\n",
    "proc means data=c.unico_2 noprint;\n",
    "  class cluster;\n",
    "  var d10_1-d10_8;\n",
    "  output out=byclust mean=m1-m8;\n",
    "run;\n",
    "\n",
    "data deltas;\n",
    "  set byclust;\n",
    "  where _TYPE_ = 1; /* クラスタ行のみ */\n",
    "  d10_1_delta = m1 - &om1;\n",
    "  d10_2_delta = m2 - &om2;\n",
    "  d10_3_delta = m3 - &om3;\n",
    "  d10_4_delta = m4 - &om4;\n",
    "  d10_5_delta = m5 - &om5;\n",
    "  d10_6_delta = m6 - &om6;\n",
    "  d10_7_delta = m7 - &om7;\n",
    "  d10_8_delta = m8 - &om8;\n",
    "  keep cluster d10_1_delta-d10_8_delta;\n",
    "run;\n",
    "\n",
    "proc print data=deltas label noobs;\n",
    "  title \"Cluster mean minus overall mean (Δ)\";\n",
    "run;"
   ]
  },
  {
   "cell_type": "markdown",
   "id": "85f9d6b1",
   "metadata": {},
   "source": [
    "## まとめ\n",
    "\n",
    "| 内容 | 方法 | 解釈 |\n",
    "|------|------|------|\n",
    "| Categorical vs categorical | `PROC FREQ` + `CHISQ` | p ≈ 0.47 で独立 |\n",
    "| Predictive relation | `PROC FREQ` + `MEASURES` | Lambda ≈ 0.02、性別は弱い予測因子 |\n",
    "| Quantitative variables | `PROC MEANS` | クラスター平均の比較で特徴づけ |\n",
    "\n",
    "**最終結論:** Gender はクラスターに影響を与えないため、設計では意見データを主軸にする。\n"
   ]
  }
 ],
 "metadata": {
  "kernelspec": {
   "display_name": "SAS",
   "language": "sas",
   "name": "sas"
  },
  "language_info": {
   "name": "sas"
  }
 },
 "nbformat": 4,
 "nbformat_minor": 5
}
