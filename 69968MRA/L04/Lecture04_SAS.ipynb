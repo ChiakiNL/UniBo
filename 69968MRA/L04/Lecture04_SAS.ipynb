{
 "cells": [
  {
   "cell_type": "markdown",
   "id": "3e0a74d5",
   "metadata": {},
   "source": [
    "# Market Research and Analysis, Lecture 04"
   ]
  },
  {
   "cell_type": "markdown",
   "id": "09f5fe7c",
   "metadata": {},
   "source": [
    "## Learning goals\n",
    "- Data step and proc step\n",
    "- Libraries\n",
    "- Create, read, and save datasets\n",
    "- Explore data with PROC CONTENTS, PRINT, FREQ, SUMMARY, MEANS\n",
    "- Create new variables\n",
    "- Sort and group data\n",
    "- Merge datasets\n",
    "- IF logic"
   ]
  },
  {
   "cell_type": "markdown",
   "id": "a01e74e0",
   "metadata": {},
   "source": [
    "## Setup permanent library"
   ]
  },
  {
   "cell_type": "code",
   "execution_count": 1,
   "id": "50b96c49",
   "metadata": {
    "language": "sas"
   },
   "outputs": [],
   "source": [
    "/* libname c 'C:\\\\Users\\\\YourName\\\\Desktop\\\\SAS'; */"
   ]
  },
  {
   "cell_type": "markdown",
   "id": "f6190f31",
   "metadata": {},
   "source": [
    "## Create dataset"
   ]
  },
  {
   "cell_type": "code",
   "execution_count": null,
   "id": "2233d6b5",
   "metadata": {
    "language": "sas"
   },
   "outputs": [],
   "source": [
    "\n",
    "data wghtclub;\n",
    "   input idno 1-4 name $ 6-24 team $ strtwght endwght;\n",
    "   loss = strtwght - endwght;\n",
    "cards;\n",
    "1023 David Shaw         red    189 165\n",
    "1049 Amelia Serrano     yellow 145 124\n",
    "1219 Alan Nance         red    210 192\n",
    "1246 Ravi Sinha         yellow 194 177\n",
    "1078 Ashley McKnight    red    127 118\n",
    "1221 Jim Brown          yellow 220   .\n",
    "1095 Susan Stewart      blue   135 127\n",
    "1157 Rose Collins       green  155 141\n",
    "1331 Jason Schock       blue   187 172\n",
    "1067 Kanoko Nagasaka    green  135 122\n",
    "1251 Richard Rose       blue   181 166\n",
    "1333 Li-Hwa Lee         green  141 129\n",
    "1192 Charlene Armstrong yellow 152 139\n",
    "1352 Bette Long         green  156 137\n",
    "1262 Yao Chen           blue   196 180\n",
    "1087 Kim Blackburn      red    148 135\n",
    "1124 Adrienne Fink      green  156 142\n",
    "1197 Lynne Overby       red    138 125\n",
    "1133 John VanMeter      blue   180 167\n",
    "1036 Becky Redding      green  135 123\n",
    "1057 Margie Vanhoy      yellow 146 132\n",
    "1328 Hisashi Ito        red    155 142\n",
    "1243 Deanna Hicks       blue   134 122\n",
    "1177 Holly Choate       red    141 130\n",
    "1259 Raoul Sanchez      green  189 172\n",
    "1017 Jennifer Brooks    blue   138 127\n",
    "1099 Asha Garg          yellow 148 132\n",
    "1329 Larry Goss         yellow 188 174\n",
    ";\n",
    "run;\n"
   ]
  },
  {
   "cell_type": "markdown",
   "id": "37ecc6b3",
   "metadata": {},
   "source": [
    "## Save to permanent library"
   ]
  },
  {
   "cell_type": "code",
   "execution_count": null,
   "id": "9b28636c",
   "metadata": {
    "language": "sas"
   },
   "outputs": [],
   "source": [
    "/* data c.wghtclub; set wghtclub; run; */"
   ]
  },
  {
   "cell_type": "markdown",
   "id": "3c3f08d0",
   "metadata": {},
   "source": [
    "## Inspect and print"
   ]
  },
  {
   "cell_type": "code",
   "execution_count": null,
   "id": "909a1ac2",
   "metadata": {
    "language": "sas"
   },
   "outputs": [],
   "source": [
    "\n",
    "proc contents data=wghtclub;\n",
    "run;\n",
    "\n",
    "proc print data=wghtclub; where team=\"red\";\n",
    "run;\n"
   ]
  },
  {
   "cell_type": "markdown",
   "id": "5b7aceb4",
   "metadata": {},
   "source": [
    "## Frequency tables"
   ]
  },
  {
   "cell_type": "code",
   "execution_count": null,
   "id": "05213876",
   "metadata": {
    "language": "sas"
   },
   "outputs": [],
   "source": [
    "\n",
    "proc freq data=wghtclub; table team;\n",
    "run;\n",
    "\n",
    "proc freq data=wghtclub; table team*loss / all out=a;\n",
    "run;"
   ]
  },
  {
   "cell_type": "markdown",
   "id": "cec096e4",
   "metadata": {},
   "source": [
    "## Row level features"
   ]
  },
  {
   "cell_type": "code",
   "execution_count": null,
   "id": "d1a4d193",
   "metadata": {
    "language": "sas"
   },
   "outputs": [],
   "source": [
    "\n",
    "data wghtclub1;\n",
    "  set wghtclub;\n",
    "  max_wght  = max(of strtwght endwght);\n",
    "  min_wght  = min(of strtwght endwght);\n",
    "  mean_wght = mean(of strtwght endwght);\n",
    "run;\n"
   ]
  },
  {
   "cell_type": "markdown",
   "id": "82b80951",
   "metadata": {},
   "source": [
    "## Sort and summaries"
   ]
  },
  {
   "cell_type": "code",
   "execution_count": null,
   "id": "e4f5cf42",
   "metadata": {
    "language": "sas"
   },
   "outputs": [],
   "source": [
    "\n",
    "proc sort data=wghtclub1; by team;\n",
    "run;\n",
    "\n",
    "proc summary data=wghtclub1 nway; by team; var loss; output out=team_mean mean=mean_team;\n",
    "run;"
   ]
  },
  {
   "cell_type": "markdown",
   "id": "d45a4ccf",
   "metadata": {},
   "source": [
    "## Merge back"
   ]
  },
  {
   "cell_type": "code",
   "execution_count": null,
   "id": "5b009cf1",
   "metadata": {
    "language": "sas"
   },
   "outputs": [],
   "source": [
    "\n",
    "proc sort data=team_mean; by team;\n",
    "run;\n",
    "\n",
    "proc sort data=wghtclub1; by team;\n",
    "run;\n",
    "\n",
    "data wghtclub2; merge wghtclub1 team_mean; by team;\n",
    "run;"
   ]
  },
  {
   "cell_type": "markdown",
   "id": "aa10db36",
   "metadata": {},
   "source": [
    "## IF logic classification"
   ]
  },
  {
   "cell_type": "code",
   "execution_count": null,
   "id": "e1376bcc",
   "metadata": {
    "language": "sas"
   },
   "outputs": [],
   "source": [
    "\n",
    "data wghtclub3;\n",
    "  set wghtclub2;\n",
    "  length result $40;\n",
    "  if loss > mean_team then result=\"Better than your team\";\n",
    "  else if loss = mean_team then result=\"On average\";\n",
    "  else result=\"Keep training\";\n",
    "run;\n",
    "\n",
    "proc print data=wghtclub3(obs=20);\n",
    "  var idno name team strtwght endwght loss mean_team result;\n",
    "run;"
   ]
  }
 ],
 "metadata": {
  "kernelspec": {
   "display_name": "Python 3",
   "language": "python",
   "name": "python3"
  },
  "language_info": {
   "codemirror_mode": {
    "name": "ipython",
    "version": 3
   },
   "file_extension": ".py",
   "mimetype": "text/x-python",
   "name": "python",
   "nbconvert_exporter": "python",
   "pygments_lexer": "ipython3",
   "version": "3.13.7"
  }
 },
 "nbformat": 4,
 "nbformat_minor": 5
}
